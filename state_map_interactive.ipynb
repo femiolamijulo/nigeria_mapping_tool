{
 "cells": [
  {
   "cell_type": "markdown",
   "id": "81cd214d-746f-43b9-8b9e-6b358515ed7b",
   "metadata": {},
   "source": [
    "# Step 1: Import Necessary Libraries"
   ]
  },
  {
   "cell_type": "code",
   "execution_count": 2,
   "id": "f7090e2d-5a7a-418a-ae6d-c5637e3c1baf",
   "metadata": {},
   "outputs": [],
   "source": [
    "import geopandas as gpd\n",
    "import json"
   ]
  },
  {
   "cell_type": "markdown",
   "id": "f23b72f9-f341-4d29-b9a6-409ae5807ffc",
   "metadata": {},
   "source": [
    "# Step 2: Load Cleaned Data"
   ]
  },
  {
   "cell_type": "code",
   "execution_count": 3,
   "id": "dfb1dba2-4cba-45f1-9349-5b350cfca372",
   "metadata": {},
   "outputs": [],
   "source": [
    "# Load cleaned GeoJSON data\n",
    "state_boundaries = gpd.read_file(\"state_geojson.geojson\")\n",
    "lga_boundaries = gpd.read_file(\"lga_geojson.geojson\")\n",
    "ward_boundaries = gpd.read_file(\"ward_geojson.geojson\")"
   ]
  },
  {
   "cell_type": "markdown",
   "id": "9421cfd9-9f7c-4577-af29-69ba0a1486cc",
   "metadata": {},
   "source": [
    "# Step 3: Create State-to-LGA and LGA-to-Ward Relationships"
   ]
  },
  {
   "cell_type": "code",
   "execution_count": 4,
   "id": "6fca7083-d487-446c-91ba-65a8de8d9eff",
   "metadata": {},
   "outputs": [],
   "source": [
    "# Create mappings\n",
    "state_to_lga = lga_boundaries.groupby(\"statename\")[\"lganame\"].apply(list).to_dict()\n",
    "lga_to_ward = ward_boundaries.groupby(\"lganame\")[\"wardname\"].apply(list).to_dict()\n",
    "\n",
    "# Generate HTML with full state names\n",
    "state_options = \"\".join([f'<option value=\"{state}\">{state}</option>' for state in state_to_lga.keys()])"
   ]
  },
  {
   "cell_type": "markdown",
   "id": "584f65fe-9ede-46cd-a5c9-1011705d4f16",
   "metadata": {},
   "source": [
    "# Step 4: Convert GeoDataFrames to GeoJSON"
   ]
  },
  {
   "cell_type": "code",
   "execution_count": 5,
   "id": "342cb78a-206e-4975-8aaf-85fc4a7b29d4",
   "metadata": {},
   "outputs": [],
   "source": [
    "# Convert to GeoJSON format\n",
    "state_geojson = state_boundaries.to_crs(epsg=4326).to_json()\n",
    "lga_geojson = lga_boundaries.to_crs(epsg=4326).to_json()\n",
    "ward_geojson = ward_boundaries.to_crs(epsg=4326).to_json()\n"
   ]
  },
  {
   "cell_type": "markdown",
   "id": "5600898f-2078-43f5-bcde-5ce9a72e9748",
   "metadata": {},
   "source": [
    "# Step 5: Generate HTML for Interactive Map"
   ]
  },
  {
   "cell_type": "code",
   "execution_count": 7,
   "id": "59796d2f-cf37-4a0d-a974-9f9be4cb864e",
   "metadata": {},
   "outputs": [
    {
     "name": "stdout",
     "output_type": "stream",
     "text": [
      "Interactive map saved as 'interactive_map.html'\n"
     ]
    }
   ],
   "source": []
  },
  {
   "cell_type": "markdown",
   "id": "277e4811-87a8-4534-ba9b-26c87f58daea",
   "metadata": {},
   "source": [
    "# Interactive map 2"
   ]
  },
  {
   "cell_type": "markdown",
   "id": "94141dff-dd49-44d5-b518-ff8c81f06693",
   "metadata": {},
   "source": []
  },
  {
   "cell_type": "code",
   "execution_count": 10,
   "id": "24888164-3d8a-436a-a3e4-c0d56e5b29c4",
   "metadata": {},
   "outputs": [],
   "source": []
  },
  {
   "cell_type": "code",
   "execution_count": null,
   "id": "5e71fa3c-9bba-41ce-ba92-be51af370ca7",
   "metadata": {},
   "outputs": [],
   "source": []
  }
 ],
 "metadata": {
  "kernelspec": {
   "display_name": "Python (Nigeria Map)",
   "language": "python",
   "name": "nigeria_map_env"
  },
  "language_info": {
   "codemirror_mode": {
    "name": "ipython",
    "version": 3
   },
   "file_extension": ".py",
   "mimetype": "text/x-python",
   "name": "python",
   "nbconvert_exporter": "python",
   "pygments_lexer": "ipython3",
   "version": "3.12.4"
  }
 },
 "nbformat": 4,
 "nbformat_minor": 5
}
