{
 "cells": [
  {
   "cell_type": "code",
   "execution_count": 3,
   "id": "7a982a4f-e235-46e1-b733-2859ad4d63dc",
   "metadata": {},
   "outputs": [
    {
     "name": "stdout",
     "output_type": "stream",
     "text": [
      "Water bodies data saved to Lagos_water_bodies.geojson\n"
     ]
    }
   ],
   "source": [
    "import osmnx as ox\n",
    "import geopandas as gpd\n",
    "\n",
    "# Define the bounding box or place name for Nigeria\n",
    "place_name = [\"Lagos, Nigeria\"]\n",
    "tags = {\"water\":[\"river\",\"oxbow\",\"canal\",\"ditch\",\"lock\",\"fish_pass\",\"lake\", \"reservoir\",\"pond\",\"basin\",\"lagoon\",\"stream_pool\",\"reflecting_pool\",\"moat\",\"wastewater\"]}\n",
    "# Fetch the data using OSMnx\n",
    "water_features = ox.features_from_place(query=place_name, tags=tags)\n",
    "\n",
    "# Save the data as a GeoJSON for use in QGIS\n",
    "output_path = \"Lagos_water_bodies.geojson\"\n",
    "water_features.to_file(output_path, driver=\"GeoJSON\")\n",
    "\n",
    "print(f\"Water bodies data saved to {output_path}\")\n"
   ]
  },
  {
   "cell_type": "code",
   "execution_count": 21,
   "id": "4accebf9-227c-4801-a56b-b119620df862",
   "metadata": {},
   "outputs": [
    {
     "name": "stdout",
     "output_type": "stream",
     "text": [
      "Help on function features_from_place in module osmnx.features:\n",
      "\n",
      "features_from_place(query: 'str | dict[str, str] | list[str | dict[str, str]]', tags: 'dict[str, bool | str | list[str]]', *, which_result: 'int | None | list[int | None]' = None) -> 'gpd.GeoDataFrame'\n",
      "    Download OSM features within the boundaries of some place(s).\n",
      "\n",
      "    The query must be geocodable and OSM must have polygon boundaries for the\n",
      "    geocode result. If OSM does not have a polygon for this place, you can\n",
      "    instead get features within it using the `features_from_address`\n",
      "    function, which geocodes the place name to a point and gets the features\n",
      "    within some distance of that point.\n",
      "\n",
      "    If OSM does have polygon boundaries for this place but you're not finding\n",
      "    it, try to vary the query string, pass in a structured query dict, or vary\n",
      "    the `which_result` argument to use a different geocode result. If you know\n",
      "    the OSM ID of the place, you can retrieve its boundary polygon using the\n",
      "    `geocode_to_gdf` function, then pass it to the `features_from_polygon`\n",
      "    function.\n",
      "\n",
      "    You can use the `settings` module to retrieve a snapshot of historical OSM\n",
      "    data as of a certain date, or to configure the Overpass server timeout,\n",
      "    memory allocation, and other custom settings. This function searches for\n",
      "    features using tags. For more details, see:\n",
      "    https://wiki.openstreetmap.org/wiki/Map_features\n",
      "\n",
      "    Parameters\n",
      "    ----------\n",
      "    query\n",
      "        The query or queries to geocode to retrieve place boundary polygon(s).\n",
      "    tags\n",
      "        Tags for finding elements in the selected area. Results are the union,\n",
      "        not intersection of the tags and each result matches at least one tag.\n",
      "        The keys are OSM tags (e.g. `building`, `landuse`, `highway`, etc) and\n",
      "        the values can be either `True` to retrieve all elements matching the\n",
      "        tag, or a string to retrieve a single `tag:value` combination, or a\n",
      "        list of strings to retrieve multiple values for the tag. For example,\n",
      "        `tags = {'building': True}` would return all buildings in the area.\n",
      "        Or, `tags = {'amenity':True, 'landuse':['retail','commercial'],\n",
      "        'highway':'bus_stop'}` would return all amenities, any landuse=retail,\n",
      "        any landuse=commercial, and any highway=bus_stop.\n",
      "    which_result\n",
      "        Which search result to return. If None, auto-select the first\n",
      "        (Multi)Polygon or raise an error if OSM doesn't return one.\n",
      "\n",
      "    Returns\n",
      "    -------\n",
      "    gdf\n",
      "        The features, multi-indexed by element type and OSM ID.\n",
      "\n"
     ]
    }
   ],
   "source": [
    "import osmnx\n",
    "\n",
    "help(ox.features_from_place)"
   ]
  },
  {
   "cell_type": "code",
   "execution_count": null,
   "id": "538bfc20-b752-4ebd-9b22-6dd80f6fd3b2",
   "metadata": {},
   "outputs": [],
   "source": []
  }
 ],
 "metadata": {
  "kernelspec": {
   "display_name": "Python 3 (ipykernel)",
   "language": "python",
   "name": "python3"
  },
  "language_info": {
   "codemirror_mode": {
    "name": "ipython",
    "version": 3
   },
   "file_extension": ".py",
   "mimetype": "text/x-python",
   "name": "python",
   "nbconvert_exporter": "python",
   "pygments_lexer": "ipython3",
   "version": "3.12.4"
  }
 },
 "nbformat": 4,
 "nbformat_minor": 5
}
